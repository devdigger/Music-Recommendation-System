{
  "nbformat": 4,
  "nbformat_minor": 0,
  "metadata": {
    "colab": {
      "provenance": []
    },
    "kernelspec": {
      "name": "python3",
      "display_name": "Python 3"
    },
    "language_info": {
      "name": "python"
    }
  },
  "cells": [
    {
      "cell_type": "code",
      "execution_count": null,
      "metadata": {
        "id": "tnnGfS1J2PKM",
        "colab": {
          "base_uri": "https://localhost:8080/"
        },
        "outputId": "b62047db-e0a0-41b2-9367-ae24e52f6042",
        "collapsed": true
      },
      "outputs": [
        {
          "output_type": "stream",
          "name": "stdout",
          "text": [
            "Mounted at /content/drive\n"
          ]
        }
      ],
      "source": [
        "from google.colab import drive\n",
        "drive.mount('/content/drive')"
      ]
    },
    {
      "cell_type": "code",
      "source": [
        "#Importing Required Libraries\n",
        "import numpy as np\n",
        "import pandas as pd\n",
        "from typing import List, Dict\n",
        "from sklearn.feature_extraction.text import TfidfVectorizer\n",
        "from sklearn.metrics.pairwise import cosine_similarity"
      ],
      "metadata": {
        "id": "001qoEg42Slk"
      },
      "execution_count": null,
      "outputs": []
    },
    {
      "cell_type": "code",
      "source": [
        "%cd /content/drive/MyDrive/ML_FSP\n",
        "songs = pd.read_csv('songdata.csv')\n",
        "songs.head()"
      ],
      "metadata": {
        "id": "KkxgYujX2ey5",
        "colab": {
          "base_uri": "https://localhost:8080/",
          "height": 223
        },
        "outputId": "68fdeb65-05b5-4771-ce54-c27d9c977518"
      },
      "execution_count": null,
      "outputs": [
        {
          "output_type": "stream",
          "name": "stdout",
          "text": [
            "/content/drive/MyDrive/ML_FSP\n"
          ]
        },
        {
          "output_type": "execute_result",
          "data": {
            "text/plain": [
              "  artist                   song                                        link  \\\n",
              "0   ABBA  Ahe's My Kind Of Girl  /a/abba/ahes+my+kind+of+girl_20598417.html   \n",
              "1   ABBA       Andante, Andante       /a/abba/andante+andante_20002708.html   \n",
              "2   ABBA         As Good As New        /a/abba/as+good+as+new_20003033.html   \n",
              "3   ABBA                   Bang                  /a/abba/bang_20598415.html   \n",
              "4   ABBA       Bang-A-Boomerang      /a/abba/bang+a+boomerang_20002668.html   \n",
              "\n",
              "                                                text  \n",
              "0  Look at her face, it's a wonderful face  \\nAnd...  \n",
              "1  Take it easy with me, please  \\nTouch me gentl...  \n",
              "2  I'll never know why I had to go  \\nWhy I had t...  \n",
              "3  Making somebody happy is a question of give an...  \n",
              "4  Making somebody happy is a question of give an...  "
            ],
            "text/html": [
              "\n",
              "  <div id=\"df-683cc086-4c63-4b11-8113-bab2a5230013\">\n",
              "    <div class=\"colab-df-container\">\n",
              "      <div>\n",
              "<style scoped>\n",
              "    .dataframe tbody tr th:only-of-type {\n",
              "        vertical-align: middle;\n",
              "    }\n",
              "\n",
              "    .dataframe tbody tr th {\n",
              "        vertical-align: top;\n",
              "    }\n",
              "\n",
              "    .dataframe thead th {\n",
              "        text-align: right;\n",
              "    }\n",
              "</style>\n",
              "<table border=\"1\" class=\"dataframe\">\n",
              "  <thead>\n",
              "    <tr style=\"text-align: right;\">\n",
              "      <th></th>\n",
              "      <th>artist</th>\n",
              "      <th>song</th>\n",
              "      <th>link</th>\n",
              "      <th>text</th>\n",
              "    </tr>\n",
              "  </thead>\n",
              "  <tbody>\n",
              "    <tr>\n",
              "      <th>0</th>\n",
              "      <td>ABBA</td>\n",
              "      <td>Ahe's My Kind Of Girl</td>\n",
              "      <td>/a/abba/ahes+my+kind+of+girl_20598417.html</td>\n",
              "      <td>Look at her face, it's a wonderful face  \\nAnd...</td>\n",
              "    </tr>\n",
              "    <tr>\n",
              "      <th>1</th>\n",
              "      <td>ABBA</td>\n",
              "      <td>Andante, Andante</td>\n",
              "      <td>/a/abba/andante+andante_20002708.html</td>\n",
              "      <td>Take it easy with me, please  \\nTouch me gentl...</td>\n",
              "    </tr>\n",
              "    <tr>\n",
              "      <th>2</th>\n",
              "      <td>ABBA</td>\n",
              "      <td>As Good As New</td>\n",
              "      <td>/a/abba/as+good+as+new_20003033.html</td>\n",
              "      <td>I'll never know why I had to go  \\nWhy I had t...</td>\n",
              "    </tr>\n",
              "    <tr>\n",
              "      <th>3</th>\n",
              "      <td>ABBA</td>\n",
              "      <td>Bang</td>\n",
              "      <td>/a/abba/bang_20598415.html</td>\n",
              "      <td>Making somebody happy is a question of give an...</td>\n",
              "    </tr>\n",
              "    <tr>\n",
              "      <th>4</th>\n",
              "      <td>ABBA</td>\n",
              "      <td>Bang-A-Boomerang</td>\n",
              "      <td>/a/abba/bang+a+boomerang_20002668.html</td>\n",
              "      <td>Making somebody happy is a question of give an...</td>\n",
              "    </tr>\n",
              "  </tbody>\n",
              "</table>\n",
              "</div>\n",
              "      <button class=\"colab-df-convert\" onclick=\"convertToInteractive('df-683cc086-4c63-4b11-8113-bab2a5230013')\"\n",
              "              title=\"Convert this dataframe to an interactive table.\"\n",
              "              style=\"display:none;\">\n",
              "        \n",
              "  <svg xmlns=\"http://www.w3.org/2000/svg\" height=\"24px\"viewBox=\"0 0 24 24\"\n",
              "       width=\"24px\">\n",
              "    <path d=\"M0 0h24v24H0V0z\" fill=\"none\"/>\n",
              "    <path d=\"M18.56 5.44l.94 2.06.94-2.06 2.06-.94-2.06-.94-.94-2.06-.94 2.06-2.06.94zm-11 1L8.5 8.5l.94-2.06 2.06-.94-2.06-.94L8.5 2.5l-.94 2.06-2.06.94zm10 10l.94 2.06.94-2.06 2.06-.94-2.06-.94-.94-2.06-.94 2.06-2.06.94z\"/><path d=\"M17.41 7.96l-1.37-1.37c-.4-.4-.92-.59-1.43-.59-.52 0-1.04.2-1.43.59L10.3 9.45l-7.72 7.72c-.78.78-.78 2.05 0 2.83L4 21.41c.39.39.9.59 1.41.59.51 0 1.02-.2 1.41-.59l7.78-7.78 2.81-2.81c.8-.78.8-2.07 0-2.86zM5.41 20L4 18.59l7.72-7.72 1.47 1.35L5.41 20z\"/>\n",
              "  </svg>\n",
              "      </button>\n",
              "      \n",
              "  <style>\n",
              "    .colab-df-container {\n",
              "      display:flex;\n",
              "      flex-wrap:wrap;\n",
              "      gap: 12px;\n",
              "    }\n",
              "\n",
              "    .colab-df-convert {\n",
              "      background-color: #E8F0FE;\n",
              "      border: none;\n",
              "      border-radius: 50%;\n",
              "      cursor: pointer;\n",
              "      display: none;\n",
              "      fill: #1967D2;\n",
              "      height: 32px;\n",
              "      padding: 0 0 0 0;\n",
              "      width: 32px;\n",
              "    }\n",
              "\n",
              "    .colab-df-convert:hover {\n",
              "      background-color: #E2EBFA;\n",
              "      box-shadow: 0px 1px 2px rgba(60, 64, 67, 0.3), 0px 1px 3px 1px rgba(60, 64, 67, 0.15);\n",
              "      fill: #174EA6;\n",
              "    }\n",
              "\n",
              "    [theme=dark] .colab-df-convert {\n",
              "      background-color: #3B4455;\n",
              "      fill: #D2E3FC;\n",
              "    }\n",
              "\n",
              "    [theme=dark] .colab-df-convert:hover {\n",
              "      background-color: #434B5C;\n",
              "      box-shadow: 0px 1px 3px 1px rgba(0, 0, 0, 0.15);\n",
              "      filter: drop-shadow(0px 1px 2px rgba(0, 0, 0, 0.3));\n",
              "      fill: #FFFFFF;\n",
              "    }\n",
              "  </style>\n",
              "\n",
              "      <script>\n",
              "        const buttonEl =\n",
              "          document.querySelector('#df-683cc086-4c63-4b11-8113-bab2a5230013 button.colab-df-convert');\n",
              "        buttonEl.style.display =\n",
              "          google.colab.kernel.accessAllowed ? 'block' : 'none';\n",
              "\n",
              "        async function convertToInteractive(key) {\n",
              "          const element = document.querySelector('#df-683cc086-4c63-4b11-8113-bab2a5230013');\n",
              "          const dataTable =\n",
              "            await google.colab.kernel.invokeFunction('convertToInteractive',\n",
              "                                                     [key], {});\n",
              "          if (!dataTable) return;\n",
              "\n",
              "          const docLinkHtml = 'Like what you see? Visit the ' +\n",
              "            '<a target=\"_blank\" href=https://colab.research.google.com/notebooks/data_table.ipynb>data table notebook</a>'\n",
              "            + ' to learn more about interactive tables.';\n",
              "          element.innerHTML = '';\n",
              "          dataTable['output_type'] = 'display_data';\n",
              "          await google.colab.output.renderOutput(dataTable, element);\n",
              "          const docLink = document.createElement('div');\n",
              "          docLink.innerHTML = docLinkHtml;\n",
              "          element.appendChild(docLink);\n",
              "        }\n",
              "      </script>\n",
              "    </div>\n",
              "  </div>\n",
              "  "
            ]
          },
          "metadata": {},
          "execution_count": 3
        }
      ]
    },
    {
      "cell_type": "code",
      "source": [
        "#Because of the dataset being so big, we are going to resample only 5000 random songs.\n",
        "songs = songs.sample(n=5000).drop('link', axis=1).reset_index(drop=True)"
      ],
      "metadata": {
        "id": "DqhSiQZw2mC_"
      },
      "execution_count": null,
      "outputs": []
    },
    {
      "cell_type": "code",
      "source": [
        "#Replacing /n with ''\n",
        "songs['text'] = songs['text'].str.replace(r'\\n', '')"
      ],
      "metadata": {
        "id": "Jw3DpmYQ2tov",
        "colab": {
          "base_uri": "https://localhost:8080/"
        },
        "outputId": "cd09b612-c0eb-46ad-f692-d952769b1e67"
      },
      "execution_count": null,
      "outputs": [
        {
          "output_type": "stream",
          "name": "stderr",
          "text": [
            "<ipython-input-5-b00373e343e5>:2: FutureWarning: The default value of regex will change from True to False in a future version.\n",
            "  songs['text'] = songs['text'].str.replace(r'\\n', '')\n"
          ]
        }
      ]
    },
    {
      "cell_type": "code",
      "source": [
        "tfidf = TfidfVectorizer(analyzer='word', stop_words='english')"
      ],
      "metadata": {
        "id": "jNB-vIro21S7"
      },
      "execution_count": null,
      "outputs": []
    },
    {
      "cell_type": "code",
      "source": [
        "lyrics_matrix = tfidf.fit_transform(songs['text'])"
      ],
      "metadata": {
        "id": "eRcetcZH216f"
      },
      "execution_count": null,
      "outputs": []
    },
    {
      "cell_type": "code",
      "source": [
        "cosine_similarities = cosine_similarity(lyrics_matrix)"
      ],
      "metadata": {
        "id": "SQziPS0a25nK"
      },
      "execution_count": null,
      "outputs": []
    },
    {
      "cell_type": "code",
      "source": [
        "similarities = {}"
      ],
      "metadata": {
        "id": "D1D632ID28iU"
      },
      "execution_count": null,
      "outputs": []
    },
    {
      "cell_type": "code",
      "source": [
        "for i in range(len(cosine_similarities)):\n",
        "    # Now we'll sort each element in cosine_similarities and get the indexes of the songs.\n",
        "    similar_indices = cosine_similarities[i].argsort()[:-50:-1]\n",
        "    # Store in similarities each name of the 50 most similar songs.\n",
        "    similarities[songs['song'].iloc[i]] = [(cosine_similarities[i][x], songs['song'][x], songs['artist'][x]) for x in similar_indices][1:]"
      ],
      "metadata": {
        "id": "4YQjIcN83Aba"
      },
      "execution_count": null,
      "outputs": []
    },
    {
      "cell_type": "code",
      "source": [
        "class ContentBasedRecommender:\n",
        "    def __init__(self, matrix):\n",
        "        self.matrix_similar = matrix\n",
        "\n",
        "    def _print_message(self, song, recom_song):\n",
        "        rec_items = len(recom_song)\n",
        "\n",
        "        print(f'The {rec_items} recommended songs for {song} are:')\n",
        "        for i in range(rec_items):\n",
        "            print(f\"Number {i+1}:\")\n",
        "            print(f\"{recom_song[i][1]} by {recom_song[i][2]} with {round(recom_song[i][0], 3)} similarity score\")\n",
        "            print(\"--------------------\")\n",
        "\n",
        "    def recommend(self, recommendation):\n",
        "        # Get song to find recommendations for\n",
        "        song = recommendation['song']\n",
        "        # Get number of songs to recommend\n",
        "        number_songs = recommendation['number_songs']\n",
        "        # Get the number of songs most similars from matrix similarities\n",
        "        recom_song = self.matrix_similar[song][:number_songs]\n",
        "        # print each item\n",
        "        self._print_message(song=song, recom_song=recom_song)"
      ],
      "metadata": {
        "id": "XZsQTH7u3FmS"
      },
      "execution_count": null,
      "outputs": []
    },
    {
      "cell_type": "code",
      "source": [
        "recommendation = ContentBasedRecommender(similarities)"
      ],
      "metadata": {
        "id": "Ak2YAUyS3Irl"
      },
      "execution_count": null,
      "outputs": []
    },
    {
      "cell_type": "code",
      "source": [
        "song_recommendation = {\n",
        "    \"song\": songs['song'].iloc[10],\n",
        "    \"number_songs\": 4\n",
        "}"
      ],
      "metadata": {
        "id": "zOCWmfYg3LWp"
      },
      "execution_count": null,
      "outputs": []
    },
    {
      "cell_type": "code",
      "source": [
        "recommendation.recommend(song_recommendation)"
      ],
      "metadata": {
        "id": "ZY-75MKX3OZI",
        "colab": {
          "base_uri": "https://localhost:8080/"
        },
        "outputId": "01b1224b-bb0b-4dc3-f383-aa22d21f7b7c"
      },
      "execution_count": null,
      "outputs": [
        {
          "output_type": "stream",
          "name": "stdout",
          "text": [
            "The 4 recommended songs for Just A Kid are:\n",
            "Number 1:\n",
            "Let Me Sleep by Pearl Jam with 0.193 similarity score\n",
            "--------------------\n",
            "Number 2:\n",
            "All The King's Horses by Dusty Springfield with 0.192 similarity score\n",
            "--------------------\n",
            "Number 3:\n",
            "Spread The Love by Kenny Chesney with 0.142 similarity score\n",
            "--------------------\n",
            "Number 4:\n",
            "Mary's Little Boy Child by Neil Diamond with 0.14 similarity score\n",
            "--------------------\n"
          ]
        }
      ]
    },
    {
      "cell_type": "code",
      "source": [
        "#Testing whole with random Input\n",
        "song_recommendation2 = {\n",
        "    \"song\": songs['song'].iloc[np.random.randint(5000)],\n",
        "    \"number_songs\": 4\n",
        "}\n",
        "recommendation.recommend(song_recommendation2)"
      ],
      "metadata": {
        "colab": {
          "base_uri": "https://localhost:8080/"
        },
        "id": "kdf4Co0834uK",
        "outputId": "cb7baab3-40bc-44ed-f786-b30ba3edc1b2"
      },
      "execution_count": null,
      "outputs": [
        {
          "output_type": "stream",
          "name": "stdout",
          "text": [
            "The 4 recommended songs for Let's See Action are:\n",
            "Number 1:\n",
            "I'd Have You Anytime by George Harrison with 0.554 similarity score\n",
            "--------------------\n",
            "Number 2:\n",
            "Let It Down by George Harrison with 0.504 similarity score\n",
            "--------------------\n",
            "Number 3:\n",
            "Don't Let Go by Foreigner with 0.467 similarity score\n",
            "--------------------\n",
            "Number 4:\n",
            "Let Me Down Easy by Cher with 0.444 similarity score\n",
            "--------------------\n"
          ]
        }
      ]
    },
    {
      "cell_type": "code",
      "source": [],
      "metadata": {
        "id": "8X6DAkRn3QYH"
      },
      "execution_count": null,
      "outputs": []
    }
  ]
}